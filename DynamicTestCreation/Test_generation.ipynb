{
 "cells": [
  {
   "attachments": {},
   "cell_type": "markdown",
   "metadata": {},
   "source": [
    "### Dynamic Test Creation\n",
    "\n",
    "\n",
    "\n"
   ]
  },
  {
   "cell_type": "markdown",
   "metadata": {},
   "source": [
    "### Lib Imports: "
   ]
  },
  {
   "cell_type": "code",
   "execution_count": 21,
   "metadata": {},
   "outputs": [],
   "source": [
    "import os\n",
    "import openai\n"
   ]
  },
  {
   "cell_type": "code",
   "execution_count": 22,
   "metadata": {},
   "outputs": [],
   "source": [
    "os.environ[\"OPENAI_API_KEY\"] = \"put you api key here\"                           "
   ]
  },
  {
   "attachments": {},
   "cell_type": "markdown",
   "metadata": {},
   "source": [
    "Instructing GPT to Develop a Multiple-Choice Quiz \n",
    "\n",
    "To have GPT create a multiple-choice quiz, we must provide clear instructions, including the subject matter, the number of possible answer choices, and the total questions. Additionally, GPT should include the correct answer to facilitate automatic grading later on."
   ]
  },
  {
   "cell_type": "code",
   "execution_count": 23,
   "metadata": {},
   "outputs": [],
   "source": [
    "openai.api_key = os.getenv(\"OPENAI_API_KEY\")"
   ]
  },
  {
   "cell_type": "code",
   "execution_count": 25,
   "metadata": {},
   "outputs": [],
   "source": [
    "\n",
    "def generate_quiz_instructions(topic, question_count, answer_choices_count):\n",
    "        instructions = (f\"Generate a multiple-choice quiz on {topic} with {question_count} questions. \"\n",
    "        f\"Provide {answer_choices_count} options for each question. \"\n",
    "        f\"Include the correct answer for every question, starting with 'Correct Answer: '.\")\n",
    "        return instructions"
   ]
  },
  {
   "cell_type": "code",
   "execution_count": 26,
   "metadata": {},
   "outputs": [
    {
     "data": {
      "text/plain": [
       "\"Generate a multiple-choice quiz on Python with 4 questions. Provide 4 options for each question. Include the correct answer for every question, starting with 'Correct Answer: '.\""
      ]
     },
     "execution_count": 26,
     "metadata": {},
     "output_type": "execute_result"
    }
   ],
   "source": [
    "generate_quiz_instructions(\"Python\", 4, 4)"
   ]
  },
  {
   "attachments": {},
   "cell_type": "markdown",
   "metadata": {},
   "source": [
    "### OpenAI API Invocation  \n",
    "For standard text generation, we will utilize the text-davinci-003 model."
   ]
  },
  {
   "cell_type": "code",
   "execution_count": 27,
   "metadata": {},
   "outputs": [],
   "source": [
    "response = openai.Completion.create(engine=\"text-davinci-003\",\n",
    "                                            prompt=generate_quiz_instructions(\"Python\", 4, 4),\n",
    "                                            max_tokens=256,\n",
    "                                            temperature=0.7)"
   ]
  },
  {
   "cell_type": "markdown",
   "metadata": {},
   "source": []
  },
  {
   "cell_type": "code",
   "execution_count": 28,
   "metadata": {},
   "outputs": [
    {
     "data": {
      "text/plain": [
       "<OpenAIObject text_completion id=cmpl-7DKWvRgt1iNpa13lxOr4m3bYC8mQX at 0x160a9ace900> JSON: {\n",
       "  \"choices\": [\n",
       "    {\n",
       "      \"finish_reason\": \"stop\",\n",
       "      \"index\": 0,\n",
       "      \"logprobs\": null,\n",
       "      \"text\": \"\\n\\nQ1. What is the correct syntax to print a string in Python?\\nA. print(\\\"string\\\")\\nB. printf(\\\"string\\\")\\nC. echo(\\\"string\\\")\\nD. print(\\\"string\\\")\\nCorrect Answer: A. print(\\\"string\\\")\\n\\nQ2. What is the type of the result of the following expression? 4 * (6 + 5)\\nA. Integer\\nB. Float\\nC. String\\nD. Boolean\\nCorrect Answer: A. Integer\\n\\nQ3. What is the correct syntax to assign a value to a variable?\\nA. x = 5\\nB. var x = 5\\nC. int x = 5\\nD. x := 5\\nCorrect Answer: A. x = 5\\n\\nQ4. What is the output of the following code?\\n\\nx = \\\"Python\\\"\\nprint(x[2:4])\\n\\nA. Py\\nB. th\\nC. on\\nD. yt\\nCorrect Answer: B. th\"\n",
       "    }\n",
       "  ],\n",
       "  \"created\": 1683411537,\n",
       "  \"id\": \"cmpl-7DKWvRgt1iNpa13lxOr4m3bYC8mQX\",\n",
       "  \"model\": \"text-davinci-003\",\n",
       "  \"object\": \"text_completion\",\n",
       "  \"usage\": {\n",
       "    \"completion_tokens\": 210,\n",
       "    \"prompt_tokens\": 35,\n",
       "    \"total_tokens\": 245\n",
       "  }\n",
       "}"
      ]
     },
     "execution_count": 28,
     "metadata": {},
     "output_type": "execute_result"
    }
   ],
   "source": [
    "response\n"
   ]
  },
  {
   "cell_type": "code",
   "execution_count": 29,
   "metadata": {},
   "outputs": [
    {
     "data": {
      "text/plain": [
       "'\\n\\nQ1. What is the correct syntax to print a string in Python?\\nA. print(\"string\")\\nB. printf(\"string\")\\nC. echo(\"string\")\\nD. print(\"string\")\\nCorrect Answer: A. print(\"string\")\\n\\nQ2. What is the type of the result of the following expression? 4 * (6 + 5)\\nA. Integer\\nB. Float\\nC. String\\nD. Boolean\\nCorrect Answer: A. Integer\\n\\nQ3. What is the correct syntax to assign a value to a variable?\\nA. x = 5\\nB. var x = 5\\nC. int x = 5\\nD. x := 5\\nCorrect Answer: A. x = 5\\n\\nQ4. What is the output of the following code?\\n\\nx = \"Python\"\\nprint(x[2:4])\\n\\nA. Py\\nB. th\\nC. on\\nD. yt\\nCorrect Answer: B. th'"
      ]
     },
     "execution_count": 29,
     "metadata": {},
     "output_type": "execute_result"
    }
   ],
   "source": [
    "response[\"choices\"][0][\"text\"]"
   ]
  },
  {
   "cell_type": "code",
   "execution_count": 30,
   "metadata": {},
   "outputs": [
    {
     "name": "stdout",
     "output_type": "stream",
     "text": [
      "\n",
      "\n",
      "Q1. What is the correct syntax to print a string in Python?\n",
      "A. print(\"string\")\n",
      "B. printf(\"string\")\n",
      "C. echo(\"string\")\n",
      "D. print(\"string\")\n",
      "Correct Answer: A. print(\"string\")\n",
      "\n",
      "Q2. What is the type of the result of the following expression? 4 * (6 + 5)\n",
      "A. Integer\n",
      "B. Float\n",
      "C. String\n",
      "D. Boolean\n",
      "Correct Answer: A. Integer\n",
      "\n",
      "Q3. What is the correct syntax to assign a value to a variable?\n",
      "A. x = 5\n",
      "B. var x = 5\n",
      "C. int x = 5\n",
      "D. x := 5\n",
      "Correct Answer: A. x = 5\n",
      "\n",
      "Q4. What is the output of the following code?\n",
      "\n",
      "x = \"Python\"\n",
      "print(x[2:4])\n",
      "\n",
      "A. Py\n",
      "B. th\n",
      "C. on\n",
      "D. yt\n",
      "Correct Answer: B. th\n"
     ]
    }
   ],
   "source": [
    "print(response[\"choices\"][0][\"text\"])"
   ]
  },
  {
   "cell_type": "markdown",
   "metadata": {},
   "source": [
    "### Extracting Questions and Answers\n",
    "\n",
    "It's essential to extract the questions and answers from the generated quiz to present them to students in an organized manner."
   ]
  },
  {
   "cell_type": "code",
   "execution_count": 31,
   "metadata": {},
   "outputs": [],
   "source": [
    "def generate_student_perspective(quiz, total_questions):\n",
    "    student_perspective = {1: \"\"}\n",
    "    question_index = 1\n",
    "    for line in quiz.split(\"\\n\"):\n",
    "        if not line.startswith(\"Correct Answer:\"):\n",
    "            student_perspective[question_index] += line + \"\\n\"\n",
    "        else:\n",
    "            if question_index < total_questions:\n",
    "                question_index += 1\n",
    "                student_perspective[question_index] = \"\"\n",
    "    return student_perspective"
   ]
  },
  {
   "cell_type": "code",
   "execution_count": 32,
   "metadata": {},
   "outputs": [
    {
     "data": {
      "text/plain": [
       "{1: '\\n\\nQ1. What is the correct syntax to print a string in Python?\\nA. print(\"string\")\\nB. printf(\"string\")\\nC. echo(\"string\")\\nD. print(\"string\")\\n',\n",
       " 2: '\\nQ2. What is the type of the result of the following expression? 4 * (6 + 5)\\nA. Integer\\nB. Float\\nC. String\\nD. Boolean\\n',\n",
       " 3: '\\nQ3. What is the correct syntax to assign a value to a variable?\\nA. x = 5\\nB. var x = 5\\nC. int x = 5\\nD. x := 5\\n',\n",
       " 4: '\\nQ4. What is the output of the following code?\\n\\nx = \"Python\"\\nprint(x[2:4])\\n\\nA. Py\\nB. th\\nC. on\\nD. yt\\n'}"
      ]
     },
     "execution_count": 32,
     "metadata": {},
     "output_type": "execute_result"
    }
   ],
   "source": [
    "generate_student_perspective(response[\"choices\"][0][\"text\"], 4)"
   ]
  },
  {
   "cell_type": "code",
   "execution_count": 33,
   "metadata": {},
   "outputs": [
    {
     "name": "stdout",
     "output_type": "stream",
     "text": [
      "{1: '\\n\\nQ1. What is the correct syntax to print a string in Python?\\nA. print(\"string\")\\nB. printf(\"string\")\\nC. echo(\"string\")\\nD. print(\"string\")\\n', 2: '\\nQ2. What is the type of the result of the following expression? 4 * (6 + 5)\\nA. Integer\\nB. Float\\nC. String\\nD. Boolean\\n', 3: '\\nQ3. What is the correct syntax to assign a value to a variable?\\nA. x = 5\\nB. var x = 5\\nC. int x = 5\\nD. x := 5\\n', 4: '\\nQ4. What is the output of the following code?\\n\\nx = \"Python\"\\nprint(x[2:4])\\n\\nA. Py\\nB. th\\nC. on\\nD. yt\\n'}\n"
     ]
    }
   ],
   "source": [
    "print(generate_student_perspective(response[\"choices\"][0][\"text\"], 4))"
   ]
  },
  {
   "cell_type": "code",
   "execution_count": 34,
   "metadata": {},
   "outputs": [],
   "source": [
    "def retrieve_correct_answers(quiz, total_questions):\n",
    "    correct_answers = {1: \"\"}\n",
    "    question_index = 1\n",
    "    for line in quiz.split(\"\\n\"):\n",
    "        if line.startswith(\"Correct Answer:\"):\n",
    "            correct_answers[question_index] += line + \"\\n\"\n",
    "\n",
    "            if question_index < total_questions:\n",
    "                        question_index += 1\n",
    "                        correct_answers[question_index] = \"\"\n",
    "    return correct_answers\n"
   ]
  },
  {
   "cell_type": "code",
   "execution_count": 35,
   "metadata": {},
   "outputs": [
    {
     "data": {
      "text/plain": [
       "{1: 'Correct Answer: A. print(\"string\")\\n',\n",
       " 2: 'Correct Answer: A. Integer\\n',\n",
       " 3: 'Correct Answer: A. x = 5\\n',\n",
       " 4: 'Correct Answer: B. th\\n'}"
      ]
     },
     "execution_count": 35,
     "metadata": {},
     "output_type": "execute_result"
    }
   ],
   "source": [
    "retrieve_correct_answers(response[\"choices\"][0][\"text\"], 4)"
   ]
  },
  {
   "attachments": {},
   "cell_type": "markdown",
   "metadata": {},
   "source": [
    "\n",
    "### Quiz Simulation    \n",
    "Utilizing the extracted questions, we can proceed with simulating the quiz experience."
   ]
  },
  {
   "cell_type": "code",
   "execution_count": 36,
   "metadata": {},
   "outputs": [],
   "source": [
    "def participate(student_perspective):\n",
    "    submitted_answers = {}\n",
    "    for question_num, question_content in student_perspective.items():\n",
    "        print(question_content)\n",
    "        response = input(\"Enter your answer: \")\n",
    "        submitted_answers[question_num] = response\n",
    "    return submitted_answers"
   ]
  },
  {
   "cell_type": "code",
   "execution_count": 37,
   "metadata": {},
   "outputs": [
    {
     "name": "stdout",
     "output_type": "stream",
     "text": [
      "\n",
      "\n",
      "Q1. What is the correct syntax to print a string in Python?\n",
      "A. print(\"string\")\n",
      "B. printf(\"string\")\n",
      "C. echo(\"string\")\n",
      "D. print(\"string\")\n",
      "\n",
      "\n",
      "Q2. What is the type of the result of the following expression? 4 * (6 + 5)\n",
      "A. Integer\n",
      "B. Float\n",
      "C. String\n",
      "D. Boolean\n",
      "\n",
      "\n",
      "Q3. What is the correct syntax to assign a value to a variable?\n",
      "A. x = 5\n",
      "B. var x = 5\n",
      "C. int x = 5\n",
      "D. x := 5\n",
      "\n",
      "\n",
      "Q4. What is the output of the following code?\n",
      "\n",
      "x = \"Python\"\n",
      "print(x[2:4])\n",
      "\n",
      "A. Py\n",
      "B. th\n",
      "C. on\n",
      "D. yt\n",
      "\n"
     ]
    }
   ],
   "source": [
    "student_answers = participate(generate_student_perspective(response[\"choices\"][0][\"text\"], 4))"
   ]
  },
  {
   "attachments": {},
   "cell_type": "markdown",
   "metadata": {},
   "source": [
    "\n",
    "### Automated Assessment\n",
    "Utilizing the student's submitted answers and the known correct answers, we can now evaluate the quiz!"
   ]
  },
  {
   "cell_type": "code",
   "execution_count": 39,
   "metadata": {},
   "outputs": [],
   "source": [
    "def evaluate(known_answers, submitted_answers):\n",
    "    accurate_responses = 0\n",
    "    for question_num, response in submitted_answers.items():\n",
    "        if response.upper() == known_answers[question_num].upper()[16]:\n",
    "             accurate_responses += 1\n",
    "    score = 100 * accurate_responses / len(submitted_answers)\n",
    "    if score < 60:\n",
    "        pass_status = \"Not passed!\"\n",
    "    else:\n",
    "        pass_status = \"Passed!\"\n",
    "    return f\"{accurate_responses} out of {len(submitted_answers)} correct! You achieved: {score}% : {pass_status}\"\n"
   ]
  },
  {
   "cell_type": "code",
   "execution_count": 40,
   "metadata": {},
   "outputs": [
    {
     "data": {
      "text/plain": [
       "'3 out of 4 correct! You achieved: 75.0% : Passed!'"
      ]
     },
     "execution_count": 40,
     "metadata": {},
     "output_type": "execute_result"
    }
   ],
   "source": [
    "evaluate(retrieve_correct_answers(response[\"choices\"][0][\"text\"], 4), student_answers)"
   ]
  }
 ],
 "metadata": {
  "kernelspec": {
   "display_name": "algoquant",
   "language": "python",
   "name": "python3"
  },
  "language_info": {
   "codemirror_mode": {
    "name": "ipython",
    "version": 3
   },
   "file_extension": ".py",
   "mimetype": "text/x-python",
   "name": "python",
   "nbconvert_exporter": "python",
   "pygments_lexer": "ipython3",
   "version": "3.8.10"
  },
  "orig_nbformat": 4
 },
 "nbformat": 4,
 "nbformat_minor": 2
}
